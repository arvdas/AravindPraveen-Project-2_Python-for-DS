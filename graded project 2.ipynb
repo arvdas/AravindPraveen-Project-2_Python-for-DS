{
 "cells": [
  {
   "cell_type": "raw",
   "id": "97aea942",
   "metadata": {},
   "source": [
    "1.\tLoad the required libraries and read the dataset.  "
   ]
  },
  {
   "cell_type": "code",
   "execution_count": 2,
   "id": "e78a9539",
   "metadata": {},
   "outputs": [],
   "source": [
    "import pandas as pd\n",
    "import warnings\n",
    "warnings.filterwarnings(\"ignore\")\n",
    "import numpy as np\n",
    "import pandas as pd\n",
    "import matplotlib.pyplot as plt\n",
    "import seaborn as sns\n",
    "from sklearn.model_selection import train_test_split\n",
    "from sklearn.metrics import classification_report,confusion_matrix,roc_curve,accuracy_score,auc,roc_auc_score\n",
    "from sklearn.ensemble import RandomForestClassifier\n",
    "from sklearn.preprocessing import StandardScaler,MinMaxScaler\n",
    "from sklearn.discriminant_analysis import LinearDiscriminantAnalysis as LDA\n",
    "from sklearn.decomposition import PCA\n",
    "from sklearn.preprocessing import StandardScaler\n",
    "from sklearn.cluster import KMeans\n",
    "from sklearn.cluster import AgglomerativeClustering\n",
    "from sklearn.preprocessing import LabelEncoder"
   ]
  },
  {
   "cell_type": "code",
   "execution_count": 3,
   "id": "b2a584da",
   "metadata": {},
   "outputs": [
    {
     "name": "stdout",
     "output_type": "stream",
     "text": [
      "   Unnamed: 0  fit  user_id bust size  item_id  weight  rating     rented for  \\\n",
      "0           0  fit   420272       34d  2260466  137lbs    10.0       vacation   \n",
      "1           1  fit   273551       34b   153475  132lbs    10.0          other   \n",
      "2           2  fit   360448       NaN  1063761     NaN    10.0          party   \n",
      "3           3  fit   909926       34c   126335  135lbs     8.0  formal affair   \n",
      "4           4  fit   151944       34b   616682  145lbs    10.0        wedding   \n",
      "\n",
      "                                         review_text          body type  \\\n",
      "0  An adorable romper! Belt and zipper were a lit...          hourglass   \n",
      "1  I rented this dress for a photo shoot. The the...  straight & narrow   \n",
      "2  This hugged in all the right places! It was a ...                NaN   \n",
      "3  I rented this for my company's black tie award...               pear   \n",
      "4  I have always been petite in my upper body and...           athletic   \n",
      "\n",
      "                                      review_summary category height  size  \\\n",
      "0                               So many compliments!   romper  5' 8\"    14   \n",
      "1                            I felt so glamourous!!!     gown  5' 6\"    12   \n",
      "2  It was a great time to celebrate the (almost) ...   sheath  5' 4\"     4   \n",
      "3   Dress arrived on time and in perfect condition.     dress  5' 5\"     8   \n",
      "4                    Was in love with this dress !!!     gown  5' 9\"    12   \n",
      "\n",
      "     age         review_date  \n",
      "0   28.0      April 20, 2016  \n",
      "1   36.0       June 18, 2013  \n",
      "2  116.0   December 14, 2015  \n",
      "3   34.0   February 12, 2014  \n",
      "4   27.0  September 26, 2016  \n"
     ]
    }
   ],
   "source": [
    "df = pd.read_csv(\"renttherunway.csv\")\n",
    "print(df.head())"
   ]
  },
  {
   "cell_type": "raw",
   "id": "21b745f1",
   "metadata": {},
   "source": [
    "2.\tCheck the first few samples, shape, info of the data and try to familiarize yourself with different features"
   ]
  },
  {
   "cell_type": "code",
   "execution_count": 4,
   "id": "411fc7a6",
   "metadata": {},
   "outputs": [
    {
     "name": "stdout",
     "output_type": "stream",
     "text": [
      "   Unnamed: 0  fit  user_id bust size  item_id  weight  rating     rented for  \\\n",
      "0           0  fit   420272       34d  2260466  137lbs    10.0       vacation   \n",
      "1           1  fit   273551       34b   153475  132lbs    10.0          other   \n",
      "2           2  fit   360448       NaN  1063761     NaN    10.0          party   \n",
      "3           3  fit   909926       34c   126335  135lbs     8.0  formal affair   \n",
      "4           4  fit   151944       34b   616682  145lbs    10.0        wedding   \n",
      "\n",
      "                                         review_text          body type  \\\n",
      "0  An adorable romper! Belt and zipper were a lit...          hourglass   \n",
      "1  I rented this dress for a photo shoot. The the...  straight & narrow   \n",
      "2  This hugged in all the right places! It was a ...                NaN   \n",
      "3  I rented this for my company's black tie award...               pear   \n",
      "4  I have always been petite in my upper body and...           athletic   \n",
      "\n",
      "                                      review_summary category height  size  \\\n",
      "0                               So many compliments!   romper  5' 8\"    14   \n",
      "1                            I felt so glamourous!!!     gown  5' 6\"    12   \n",
      "2  It was a great time to celebrate the (almost) ...   sheath  5' 4\"     4   \n",
      "3   Dress arrived on time and in perfect condition.     dress  5' 5\"     8   \n",
      "4                    Was in love with this dress !!!     gown  5' 9\"    12   \n",
      "\n",
      "     age         review_date  \n",
      "0   28.0      April 20, 2016  \n",
      "1   36.0       June 18, 2013  \n",
      "2  116.0   December 14, 2015  \n",
      "3   34.0   February 12, 2014  \n",
      "4   27.0  September 26, 2016  \n",
      "Shape of the data: (192544, 16)\n",
      "<class 'pandas.core.frame.DataFrame'>\n",
      "RangeIndex: 192544 entries, 0 to 192543\n",
      "Data columns (total 16 columns):\n",
      " #   Column          Non-Null Count   Dtype  \n",
      "---  ------          --------------   -----  \n",
      " 0   Unnamed: 0      192544 non-null  int64  \n",
      " 1   fit             192544 non-null  object \n",
      " 2   user_id         192544 non-null  int64  \n",
      " 3   bust size       174133 non-null  object \n",
      " 4   item_id         192544 non-null  int64  \n",
      " 5   weight          162562 non-null  object \n",
      " 6   rating          192462 non-null  float64\n",
      " 7   rented for      192534 non-null  object \n",
      " 8   review_text     192482 non-null  object \n",
      " 9   body type       177907 non-null  object \n",
      " 10  review_summary  192199 non-null  object \n",
      " 11  category        192544 non-null  object \n",
      " 12  height          191867 non-null  object \n",
      " 13  size            192544 non-null  int64  \n",
      " 14  age             191584 non-null  float64\n",
      " 15  review_date     192544 non-null  object \n",
      "dtypes: float64(2), int64(4), object(10)\n",
      "memory usage: 23.5+ MB\n",
      "None\n"
     ]
    }
   ],
   "source": [
    "print(df.head())\n",
    "print(\"Shape of the data:\", df.shape)\n",
    "print(df.info())"
   ]
  },
  {
   "cell_type": "raw",
   "id": "08e2a701",
   "metadata": {},
   "source": [
    "3.\tCheck if there are any duplicate records in the dataset? If any, drop them."
   ]
  },
  {
   "cell_type": "code",
   "execution_count": 5,
   "id": "67b65b3b",
   "metadata": {},
   "outputs": [
    {
     "name": "stdout",
     "output_type": "stream",
     "text": [
      "Number of duplicate records: 0\n"
     ]
    }
   ],
   "source": [
    "duplicate_rows = df.duplicated()\n",
    "num_duplicates = duplicate_rows.sum()\n",
    "print(\"Number of duplicate records:\", num_duplicates)\n",
    "df = df.drop_duplicates()"
   ]
  },
  {
   "cell_type": "raw",
   "id": "378f03c3",
   "metadata": {},
   "source": [
    "4.\tDrop the columns which you think redundant for the analysis.(Hint: drop columns like ‘id’, ‘review’)"
   ]
  },
  {
   "cell_type": "code",
   "execution_count": 6,
   "id": "2067071e",
   "metadata": {},
   "outputs": [],
   "source": [
    "columns_to_drop = ['user_id', 'item_id', 'review_text']\n",
    "df = df.drop(columns=columns_to_drop)"
   ]
  },
  {
   "cell_type": "raw",
   "id": "7a52dea3",
   "metadata": {},
   "source": [
    "5.Check the column 'weight', Is there any presence of string data? \n",
    "If yes, remove the string data and convert to float. (Hint: 'weight' has the suffix as lbs) "
   ]
  },
  {
   "cell_type": "code",
   "execution_count": 7,
   "id": "cb864e1b",
   "metadata": {},
   "outputs": [
    {
     "name": "stdout",
     "output_type": "stream",
     "text": [
      "0    137.0\n",
      "1    132.0\n",
      "2      NaN\n",
      "3    135.0\n",
      "4    145.0\n",
      "Name: weight, dtype: float64\n"
     ]
    }
   ],
   "source": [
    "has_string_data = df['weight'].str.contains('lbs').any()\n",
    "if has_string_data:   \n",
    "    df['weight'] = df['weight'].str.replace('lbs', '').astype(float)\n",
    "print(df['weight'].head())"
   ]
  },
  {
   "cell_type": "raw",
   "id": "0722bd98",
   "metadata": {},
   "source": [
    "6.\tCheck the unique categories for the column 'rented for' and group 'party: cocktail' category with 'party'. "
   ]
  },
  {
   "cell_type": "code",
   "execution_count": 8,
   "id": "5fcb8de3",
   "metadata": {},
   "outputs": [
    {
     "name": "stdout",
     "output_type": "stream",
     "text": [
      "Unique categories in 'rented for' column:\n",
      "['vacation' 'other' 'party' 'formal affair' 'wedding' 'date' 'everyday'\n",
      " 'work' nan 'party: cocktail']\n",
      "\n",
      "Updated categories in 'rented for' column:\n",
      "['vacation' 'other' 'party' 'formal affair' 'wedding' 'date' 'everyday'\n",
      " 'work' nan]\n",
      "   Unnamed: 0  fit bust size  weight  rating     rented for  \\\n",
      "0           0  fit       34d   137.0    10.0       vacation   \n",
      "1           1  fit       34b   132.0    10.0          other   \n",
      "2           2  fit       NaN     NaN    10.0          party   \n",
      "3           3  fit       34c   135.0     8.0  formal affair   \n",
      "4           4  fit       34b   145.0    10.0        wedding   \n",
      "\n",
      "           body type                                     review_summary  \\\n",
      "0          hourglass                               So many compliments!   \n",
      "1  straight & narrow                            I felt so glamourous!!!   \n",
      "2                NaN  It was a great time to celebrate the (almost) ...   \n",
      "3               pear   Dress arrived on time and in perfect condition.    \n",
      "4           athletic                    Was in love with this dress !!!   \n",
      "\n",
      "  category height  size    age         review_date  \n",
      "0   romper  5' 8\"    14   28.0      April 20, 2016  \n",
      "1     gown  5' 6\"    12   36.0       June 18, 2013  \n",
      "2   sheath  5' 4\"     4  116.0   December 14, 2015  \n",
      "3    dress  5' 5\"     8   34.0   February 12, 2014  \n",
      "4     gown  5' 9\"    12   27.0  September 26, 2016  \n"
     ]
    }
   ],
   "source": [
    "unique_categories = df['rented for'].unique()\n",
    "print(\"Unique categories in 'rented for' column:\")\n",
    "print(unique_categories)\n",
    "df['rented for'] = df['rented for'].replace('party: cocktail', 'party')\n",
    "updated_categories = df['rented for'].unique()\n",
    "print(\"\\nUpdated categories in 'rented for' column:\")\n",
    "print(updated_categories)\n",
    "print(df.head())"
   ]
  },
  {
   "cell_type": "raw",
   "id": "397772f3",
   "metadata": {},
   "source": [
    "7.\tThe column 'height' is in feet with a quotation mark, Convert to inches with float datatype. "
   ]
  },
  {
   "cell_type": "code",
   "execution_count": 8,
   "id": "eb3889d3",
   "metadata": {},
   "outputs": [
    {
     "name": "stdout",
     "output_type": "stream",
     "text": [
      "0    68\n",
      "1    66\n",
      "2    64\n",
      "3    65\n",
      "4    69\n",
      "Name: height, dtype: int64\n",
      "0    68.0\n",
      "1    66.0\n",
      "2    64.0\n",
      "3    65.0\n",
      "4    69.0\n",
      "Name: height, dtype: float64\n"
     ]
    }
   ],
   "source": [
    "import re\n",
    "import numpy as np\n",
    "def convert_feet_to_inches(height):\n",
    "    if isinstance(height, str):\n",
    "        feet_match = re.search(r\"(\\d+)'\", height)\n",
    "        inches_match = re.search(r\"(\\d+)\\\"\", height)\n",
    "        \n",
    "        feet = int(feet_match.group(1)) if feet_match else 0\n",
    "        inches = int(inches_match.group(1)) if inches_match else 0\n",
    "    elif isinstance(height, float) and np.isnan(height):\n",
    "        feet = 0\n",
    "        inches = 0\n",
    "    else:\n",
    "        feet = int(height)\n",
    "        inches = 0\n",
    "    \n",
    "    total_inches = (feet * 12) + inches\n",
    "    return total_inches\n",
    "df['height'] = df['height'].apply(convert_feet_to_inches)\n",
    "print(df['height'].head())\n",
    "df['height'] = df['height'].astype(float)\n",
    "print(df['height'].head())"
   ]
  },
  {
   "cell_type": "raw",
   "id": "da9fc420",
   "metadata": {},
   "source": [
    "8.\tCheck for missing values in each column of the dataset? If it exists, impute them with appropriate methods. "
   ]
  },
  {
   "cell_type": "code",
   "execution_count": 10,
   "id": "b7f5df80",
   "metadata": {},
   "outputs": [
    {
     "name": "stdout",
     "output_type": "stream",
     "text": [
      "missing values:\n",
      " Unnamed: 0            0\n",
      "fit                   0\n",
      "bust size         18411\n",
      "weight            29982\n",
      "rating               82\n",
      "rented for           10\n",
      "body type         14637\n",
      "review_summary      345\n",
      "category              0\n",
      "height              677\n",
      "size                  0\n",
      "age                 960\n",
      "review_date           0\n",
      "dtype: int64\n",
      "treated    Unnamed: 0  fit bust size      weight  rating     rented for  \\\n",
      "0           0  fit       34d  137.000000    10.0       vacation   \n",
      "1           1  fit       34b  132.000000    10.0          other   \n",
      "2           2  fit       NaN  137.391709    10.0          party   \n",
      "3           3  fit       34c  135.000000     8.0  formal affair   \n",
      "4           4  fit       34b  145.000000    10.0        wedding   \n",
      "\n",
      "           body type                                     review_summary  \\\n",
      "0          hourglass                               So many compliments!   \n",
      "1  straight & narrow                            I felt so glamourous!!!   \n",
      "2                NaN  It was a great time to celebrate the (almost) ...   \n",
      "3               pear   Dress arrived on time and in perfect condition.    \n",
      "4           athletic                    Was in love with this dress !!!   \n",
      "\n",
      "  category height  size    age         review_date  \n",
      "0   romper  5' 8\"    14   28.0      April 20, 2016  \n",
      "1     gown  5' 6\"    12   36.0       June 18, 2013  \n",
      "2   sheath  5' 4\"     4  116.0   December 14, 2015  \n",
      "3    dress  5' 5\"     8   34.0   February 12, 2014  \n",
      "4     gown  5' 9\"    12   27.0  September 26, 2016  \n"
     ]
    }
   ],
   "source": [
    "missing_values = df.isnull().sum()\n",
    "print(\"missing values:\\n\",missing_values)\n",
    "df_filled = df.fillna(df.mean())\n",
    "print(\"treated\",df_filled.head())\n"
   ]
  },
  {
   "cell_type": "raw",
   "id": "bf70241d",
   "metadata": {},
   "source": [
    "9.\tCheck the statistical summary for the numerical and categorical columns and write your findings. "
   ]
  },
  {
   "cell_type": "code",
   "execution_count": 11,
   "id": "516722d8",
   "metadata": {},
   "outputs": [
    {
     "name": "stdout",
     "output_type": "stream",
     "text": [
      "numerical summary\n",
      "           Unnamed: 0         weight         rating           size  \\\n",
      "count  192544.000000  162562.000000  192462.000000  192544.000000   \n",
      "mean    96271.500000     137.391709       9.092371      12.245175   \n",
      "std     55582.809453      21.899967       1.430044       8.494877   \n",
      "min         0.000000      50.000000       2.000000       0.000000   \n",
      "25%     48135.750000     123.000000       8.000000       8.000000   \n",
      "50%     96271.500000     135.000000      10.000000      12.000000   \n",
      "75%    144407.250000     148.000000      10.000000      16.000000   \n",
      "max    192543.000000     300.000000      10.000000      58.000000   \n",
      "\n",
      "                 age  \n",
      "count  191584.000000  \n",
      "mean       33.871017  \n",
      "std         8.058083  \n",
      "min         0.000000  \n",
      "25%        29.000000  \n",
      "50%        32.000000  \n",
      "75%        37.000000  \n",
      "max       117.000000  \n",
      "categorical summary\n",
      "            fit bust size rented for  body type  review_summary category  \\\n",
      "count   192544    174133     192534     177907          192199   192544   \n",
      "unique       3       106          8          7          154736       68   \n",
      "top        fit       34b    wedding  hourglass  Stylist Review    dress   \n",
      "freq    142058     27285      57784      55349             977    92884   \n",
      "\n",
      "        height    review_date  \n",
      "count   191867         192544  \n",
      "unique      24           2274  \n",
      "top      5' 4\"  June 15, 2016  \n",
      "freq     28012            844  \n"
     ]
    }
   ],
   "source": [
    "# Statistical summary for numerical columns\n",
    "numerical_columns = df.select_dtypes(include=['int64', 'float64'])\n",
    "numerical_summary = numerical_columns.describe()\n",
    "print(\"numerical summary\\n\",numerical_summary)\n",
    "\n",
    "# Statistical summary for categorical columns\n",
    "categorical_columns = df.select_dtypes(include=['object'])\n",
    "categorical_summary = categorical_columns.describe()\n",
    "print(\"categorical summary\\n\",categorical_summary)"
   ]
  },
  {
   "cell_type": "raw",
   "id": "7bc67066",
   "metadata": {},
   "source": [
    "10.\tAre there outliers present in the column age? If yes, treat them with the appropriate method."
   ]
  },
  {
   "cell_type": "code",
   "execution_count": 12,
   "id": "2c0eafa7",
   "metadata": {},
   "outputs": [
    {
     "name": "stdout",
     "output_type": "stream",
     "text": [
      "Outliers found in the 'age' column:\n",
      "        Unnamed: 0    fit bust size  weight  rating     rented for  body type  \\\n",
      "2                2    fit       NaN     NaN    10.0          party        NaN   \n",
      "7                7    fit      34d+   118.0    10.0  formal affair  full bust   \n",
      "121            121    fit       36b   135.0    10.0          other       pear   \n",
      "187            187    fit       NaN   180.0     6.0  formal affair  full bust   \n",
      "204            204    fit       36d   200.0     6.0        wedding  hourglass   \n",
      "...            ...    ...       ...     ...     ...            ...        ...   \n",
      "192222      192222    fit       34c     NaN    10.0        wedding  hourglass   \n",
      "192224      192224    fit       36c   132.0     8.0          party  hourglass   \n",
      "192293      192293  large       36d   145.0     8.0          other  full bust   \n",
      "192363      192363    fit       32d   125.0    10.0          party  hourglass   \n",
      "192407      192407    fit       36a   135.0    10.0           work       pear   \n",
      "\n",
      "                                           review_summary category height  \\\n",
      "2       It was a great time to celebrate the (almost) ...   sheath  5' 4\"   \n",
      "7       Great dress, beautifully made.  I received lot...    dress  5' 3\"   \n",
      "121                               Best Rental Ever!!!!!!!   sheath  5' 1\"   \n",
      "187     I would have worn this dress to an anniversary...     gown  5' 4\"   \n",
      "204                                          disappointed   sheath  5' 4\"   \n",
      "...                                                   ...      ...    ...   \n",
      "192222  Beautiful dress. Elegant & Stylish. Received s...   sheath  5' 7\"   \n",
      "192224          Everyone had compliments about the dress!    dress  5' 5\"   \n",
      "192293  This color was stunning paired with turquoise ...      top  5' 4\"   \n",
      "192363                                Comfortable and fun    dress  5' 4\"   \n",
      "192407                        So perfect I had to buy it!   blazer  5' 6\"   \n",
      "\n",
      "        size    age        review_date  \n",
      "2          4  116.0  December 14, 2015  \n",
      "7          8   65.0    January 1, 2013  \n",
      "121       20   69.0  December 30, 2016  \n",
      "187       34   59.0        May 2, 2016  \n",
      "204       39   59.0      June 30, 2014  \n",
      "...      ...    ...                ...  \n",
      "192222    16   62.0      March 8, 2017  \n",
      "192224    20   63.0   October 31, 2012  \n",
      "192293    20   61.0      June 18, 2016  \n",
      "192363     8   62.0     August 7, 2017  \n",
      "192407    12   59.0      March 8, 2016  \n",
      "\n",
      "[2264 rows x 13 columns]\n"
     ]
    }
   ],
   "source": [
    "import numpy as np\n",
    "z_scores = (df['age'] - df['age'].mean()) / df['age'].std()\n",
    "threshold = 3\n",
    "outliers = df[np.abs(z_scores) > threshold]\n",
    "if outliers.empty:\n",
    "    print(\"No outliers found in the 'age' column.\")\n",
    "else:\n",
    "    print(\"Outliers found in the 'age' column:\")\n",
    "    print(outliers)"
   ]
  },
  {
   "cell_type": "code",
   "execution_count": 13,
   "id": "0854d3a8",
   "metadata": {},
   "outputs": [],
   "source": [
    "median_age = df['age'].median()\n",
    "df.loc[np.abs(z_scores) > threshold, 'age'] = median_age"
   ]
  },
  {
   "cell_type": "raw",
   "id": "16a115b4",
   "metadata": {},
   "source": [
    "11.\tCheck the distribution of the different categories in the column 'rented for' using appropriate plot. "
   ]
  },
  {
   "cell_type": "code",
   "execution_count": 14,
   "id": "5a90f14b",
   "metadata": {},
   "outputs": [
    {
     "data": {
      "image/png": "[encoded data removed]",
      "text/plain": [
       "<Figure size 1000x600 with 1 Axes>"
      ]
     },
     "metadata": {},
     "output_type": "display_data"
    }
   ],
   "source": [
    "import seaborn as sns\n",
    "import matplotlib.pyplot as plt\n",
    "category_counts = df['rented for'].value_counts()\n",
    "plt.figure(figsize=(10, 6))\n",
    "sns.countplot(data=df, x='rented for')\n",
    "plt.title(\"Distribution of Categories in 'rented for' Column\")\n",
    "plt.xlabel(\"Category\")\n",
    "plt.ylabel(\"Count\")\n",
    "plt.xticks(rotation=45)\n",
    "plt.show()"
   ]
  },
  {
   "cell_type": "raw",
   "id": "2809c758",
   "metadata": {},
   "source": [
    "12.\tEncode the categorical variables in the dataset. "
   ]
  },
  {
   "cell_type": "code",
   "execution_count": 19,
   "id": "c47c1281",
   "metadata": {},
   "outputs": [
    {
     "name": "stdout",
     "output_type": "stream",
     "text": [
      "   Unnamed: 0  fit  bust size  weight  rating  rented for  body type  \\\n",
      "0           0    0         39   137.0    10.0           5          3   \n",
      "1           1    0         37   132.0    10.0           3          6   \n",
      "2           2    0        106     NaN    10.0           4          7   \n",
      "3           3    0         38   135.0     8.0           2          4   \n",
      "4           4    0         37   145.0    10.0           6          1   \n",
      "\n",
      "   review_summary  category  height  size   age  review_date  \n",
      "0          109622        44      16    14  28.0           77  \n",
      "1           59681        20      14    12  36.0         1189  \n",
      "2           74243        45      12     4  32.0          411  \n",
      "3           28142        16      13     8  34.0          607  \n",
      "4          140372        20      17    12  27.0         2205  \n"
     ]
    }
   ],
   "source": [
    "label_encoder = LabelEncoder()\n",
    "df['body type'] = label_encoder.fit_transform(df['body type'])\n",
    "df['rented for'] = label_encoder.fit_transform(df['rented for'])\n",
    "df['category'] = label_encoder.fit_transform(df['category'])\n",
    "df['fit'] = label_encoder.fit_transform(df['fit'])\n",
    "df['bust size'] = label_encoder.fit_transform(df['bust size'])\n",
    "df['review_summary'] = label_encoder.fit_transform(df['review_summary'])\n",
    "df['height'] = label_encoder.fit_transform(df['height'])\n",
    "df['review_date'] = label_encoder.fit_transform(df['review_date'])\n",
    "print(df.head())"
   ]
  },
  {
   "cell_type": "raw",
   "id": "7b019040",
   "metadata": {},
   "source": [
    "13.\tStandardize the data, so that the values are within a particular range. "
   ]
  },
  {
   "cell_type": "code",
   "execution_count": 21,
   "id": "0831ae4d",
   "metadata": {},
   "outputs": [
    {
     "name": "stdout",
     "output_type": "stream",
     "text": [
      "         weight        age      size          body type     rented for  \\\n",
      "0 -1.946601e-02  -0.730412  0.206575          hourglass       vacation   \n",
      "1 -2.679414e-01   0.264866 -0.028862  straight & narrow          other   \n",
      "2 -1.412419e-15  10.217655 -0.970608                NaN          party   \n",
      "3 -1.188562e-01   0.016047 -0.499735               pear  formal affair   \n",
      "4  3.780946e-01  -0.854822 -0.028862           athletic        wedding   \n",
      "\n",
      "  category  fit bust size                                     review_summary  \\\n",
      "0   romper  fit       34d                               So many compliments!   \n",
      "1     gown  fit       34b                            I felt so glamourous!!!   \n",
      "2   sheath  fit       NaN  It was a great time to celebrate the (almost) ...   \n",
      "3    dress  fit       34c   Dress arrived on time and in perfect condition.    \n",
      "4     gown  fit       34b                    Was in love with this dress !!!   \n",
      "\n",
      "  height         review_date  \n",
      "0  5' 8\"      April 20, 2016  \n",
      "1  5' 6\"       June 18, 2013  \n",
      "2  5' 4\"   December 14, 2015  \n",
      "3  5' 5\"   February 12, 2014  \n",
      "4  5' 9\"  September 26, 2016  \n"
     ]
    }
   ],
   "source": [
    "numerical_features = ['weight', 'age', 'size'] \n",
    "scaled_features = StandardScaler().fit_transform(df1[numerical_features].values)\n",
    "scaled_features_df = pd.DataFrame(scaled_features, index=df1.index, columns=numerical_features)\n",
    "df_encoded = pd.concat([scaled_features_df, df1[['body type', 'rented for', 'category', 'fit', 'bust size', 'review_summary', 'height', 'review_date']]], axis=1)\n",
    "print(df_encoded.head())"
   ]
  },
  {
   "cell_type": "raw",
   "id": "c3137bfd",
   "metadata": {},
   "source": [
    "14.\tApply PCA on the above dataset and determine the number of PCA components to be used so that 90-95% of the variance in data is explained by the same. "
   ]
  },
  {
   "cell_type": "code",
   "execution_count": 25,
   "id": "97c0c307",
   "metadata": {},
   "outputs": [
    {
     "name": "stdout",
     "output_type": "stream",
     "text": [
      "Covariance matrix \n",
      " [[1.00000519 0.06128711 0.73274055]\n",
      " [0.06128711 1.00000519 0.15525473]\n",
      " [0.73274055 0.15525473 1.00000519]]\n"
     ]
    }
   ],
   "source": [
    "cov_matrix = np.cov(scaled_features_df.T)\n",
    "print('Covariance matrix','\\n',cov_matrix)"
   ]
  },
  {
   "cell_type": "code",
   "execution_count": 26,
   "id": "42593a24",
   "metadata": {},
   "outputs": [
    {
     "name": "stdout",
     "output_type": "stream",
     "text": [
      "Eigen vectors: \n",
      " [[-0.68697711 -0.69737313  0.20428698]\n",
      " [-0.197342   -0.09152275 -0.97605313]\n",
      " [-0.69937014  0.71084056  0.07474698]]\n",
      "\n",
      "\n",
      "Eigen values: \n",
      " [1.76356977 0.26115749 0.97528832]\n"
     ]
    }
   ],
   "source": [
    "eig_vals, eig_vecs = np.linalg.eig(cov_matrix)\n",
    "print('Eigen vectors:','\\n',eig_vecs)\n",
    "print('\\n')\n",
    "print('Eigen values:','\\n',eig_vals)"
   ]
  },
  {
   "cell_type": "code",
   "execution_count": 27,
   "id": "36edc860",
   "metadata": {},
   "outputs": [
    {
     "name": "stdout",
     "output_type": "stream",
     "text": [
      "Variance Explained:  [58.7853536836564, 32.50944188365801, 8.70520443268559]\n",
      "Cummulative Variance Explained:  [ 58.78535368  91.29479557 100.        ]\n"
     ]
    }
   ],
   "source": [
    "total = sum(eig_vals)\n",
    "var_exp = [ (i/total)*100  for i in sorted(eig_vals,reverse=True)]\n",
    "cum_var_exp = np.cumsum(var_exp)\n",
    "print('Variance Explained: ',var_exp)\n",
    "print('Cummulative Variance Explained: ',cum_var_exp)"
   ]
  },
  {
   "cell_type": "code",
   "execution_count": 30,
   "id": "e5e2e144",
   "metadata": {},
   "outputs": [
    {
     "data": {
      "text/plain": [
       "PCA(n_components=3)"
      ]
     },
     "execution_count": 30,
     "metadata": {},
     "output_type": "execute_result"
    }
   ],
   "source": [
    "pca=PCA(n_components = 3)\n",
    "pca.fit(scaled_features_df)"
   ]
  },
  {
   "cell_type": "code",
   "execution_count": 32,
   "id": "2ff911fc",
   "metadata": {},
   "outputs": [
    {
     "data": {
      "text/html": [
       "<div>\n",
       "<style scoped>\n",
       "    .dataframe tbody tr th:only-of-type {\n",
       "        vertical-align: middle;\n",
       "    }\n",
       "\n",
       "    .dataframe tbody tr th {\n",
       "        vertical-align: top;\n",
       "    }\n",
       "\n",
       "    .dataframe thead th {\n",
       "        text-align: right;\n",
       "    }\n",
       "</style>\n",
       "<table border=\"1\" class=\"dataframe\">\n",
       "  <thead>\n",
       "    <tr style=\"text-align: right;\">\n",
       "      <th></th>\n",
       "      <th>PC1</th>\n",
       "      <th>PC2</th>\n",
       "      <th>PC3</th>\n",
       "    </tr>\n",
       "  </thead>\n",
       "  <tbody>\n",
       "    <tr>\n",
       "      <th>0</th>\n",
       "      <td>-0.013041</td>\n",
       "      <td>-0.724386</td>\n",
       "      <td>0.227266</td>\n",
       "    </tr>\n",
       "    <tr>\n",
       "      <th>1</th>\n",
       "      <td>-0.151985</td>\n",
       "      <td>0.315418</td>\n",
       "      <td>0.142098</td>\n",
       "    </tr>\n",
       "    <tr>\n",
       "      <th>2</th>\n",
       "      <td>1.337558</td>\n",
       "      <td>10.045524</td>\n",
       "      <td>-1.625096</td>\n",
       "    </tr>\n",
       "    <tr>\n",
       "      <th>3</th>\n",
       "      <td>-0.427984</td>\n",
       "      <td>0.077297</td>\n",
       "      <td>-0.273813</td>\n",
       "    </tr>\n",
       "    <tr>\n",
       "      <th>4</th>\n",
       "      <td>0.070865</td>\n",
       "      <td>-0.909434</td>\n",
       "      <td>-0.205953</td>\n",
       "    </tr>\n",
       "  </tbody>\n",
       "</table>\n",
       "</div>"
      ],
      "text/plain": [
       "        PC1        PC2       PC3\n",
       "0 -0.013041  -0.724386  0.227266\n",
       "1 -0.151985   0.315418  0.142098\n",
       "2  1.337558  10.045524 -1.625096\n",
       "3 -0.427984   0.077297 -0.273813\n",
       "4  0.070865  -0.909434 -0.205953"
      ]
     },
     "execution_count": 32,
     "metadata": {},
     "output_type": "execute_result"
    }
   ],
   "source": [
    "data_pca = pca.transform(scaled_features_df)\n",
    "data_pca = pd.DataFrame(data_pca,columns=['PC1','PC2','PC3'])\n",
    "data_pca.head()"
   ]
  },
  {
   "cell_type": "raw",
   "id": "ccfa6e5c",
   "metadata": {},
   "source": [
    "15.\tApply K-means clustering and segment the data. (You may use original data or PCA transformed data) (8)\n",
    "a.\tFind the optimal K Value using elbow plot for K Means clustering.\n",
    "b.\tBuild a Kmeans clustering model using the obtained optimal K value from the elbow plot.\n",
    "c.\tCompute silhouette score for evaluating the quality of the K Means clustering technique.\n"
   ]
  },
  {
   "cell_type": "code",
   "execution_count": 39,
   "id": "3ffd3dc2",
   "metadata": {},
   "outputs": [
    {
     "data": {
      "text/html": [
       "<div>\n",
       "<style scoped>\n",
       "    .dataframe tbody tr th:only-of-type {\n",
       "        vertical-align: middle;\n",
       "    }\n",
       "\n",
       "    .dataframe tbody tr th {\n",
       "        vertical-align: top;\n",
       "    }\n",
       "\n",
       "    .dataframe thead th {\n",
       "        text-align: right;\n",
       "    }\n",
       "</style>\n",
       "<table border=\"1\" class=\"dataframe\">\n",
       "  <thead>\n",
       "    <tr style=\"text-align: right;\">\n",
       "      <th></th>\n",
       "      <th>num_clusters</th>\n",
       "      <th>cluster_errors</th>\n",
       "    </tr>\n",
       "  </thead>\n",
       "  <tbody>\n",
       "    <tr>\n",
       "      <th>0</th>\n",
       "      <td>1</td>\n",
       "      <td>577632.000000</td>\n",
       "    </tr>\n",
       "    <tr>\n",
       "      <th>1</th>\n",
       "      <td>2</td>\n",
       "      <td>374874.280829</td>\n",
       "    </tr>\n",
       "    <tr>\n",
       "      <th>2</th>\n",
       "      <td>3</td>\n",
       "      <td>283031.296383</td>\n",
       "    </tr>\n",
       "    <tr>\n",
       "      <th>3</th>\n",
       "      <td>4</td>\n",
       "      <td>223432.831960</td>\n",
       "    </tr>\n",
       "    <tr>\n",
       "      <th>4</th>\n",
       "      <td>5</td>\n",
       "      <td>197475.585940</td>\n",
       "    </tr>\n",
       "    <tr>\n",
       "      <th>5</th>\n",
       "      <td>6</td>\n",
       "      <td>175698.530440</td>\n",
       "    </tr>\n",
       "    <tr>\n",
       "      <th>6</th>\n",
       "      <td>7</td>\n",
       "      <td>159750.258090</td>\n",
       "    </tr>\n",
       "    <tr>\n",
       "      <th>7</th>\n",
       "      <td>8</td>\n",
       "      <td>145896.130215</td>\n",
       "    </tr>\n",
       "    <tr>\n",
       "      <th>8</th>\n",
       "      <td>9</td>\n",
       "      <td>132912.752106</td>\n",
       "    </tr>\n",
       "    <tr>\n",
       "      <th>9</th>\n",
       "      <td>10</td>\n",
       "      <td>122752.870275</td>\n",
       "    </tr>\n",
       "    <tr>\n",
       "      <th>10</th>\n",
       "      <td>11</td>\n",
       "      <td>115436.359529</td>\n",
       "    </tr>\n",
       "    <tr>\n",
       "      <th>11</th>\n",
       "      <td>12</td>\n",
       "      <td>109288.775644</td>\n",
       "    </tr>\n",
       "    <tr>\n",
       "      <th>12</th>\n",
       "      <td>13</td>\n",
       "      <td>102745.913616</td>\n",
       "    </tr>\n",
       "    <tr>\n",
       "      <th>13</th>\n",
       "      <td>14</td>\n",
       "      <td>97413.022506</td>\n",
       "    </tr>\n",
       "  </tbody>\n",
       "</table>\n",
       "</div>"
      ],
      "text/plain": [
       "    num_clusters  cluster_errors\n",
       "0              1   577632.000000\n",
       "1              2   374874.280829\n",
       "2              3   283031.296383\n",
       "3              4   223432.831960\n",
       "4              5   197475.585940\n",
       "5              6   175698.530440\n",
       "6              7   159750.258090\n",
       "7              8   145896.130215\n",
       "8              9   132912.752106\n",
       "9             10   122752.870275\n",
       "10            11   115436.359529\n",
       "11            12   109288.775644\n",
       "12            13   102745.913616\n",
       "13            14    97413.022506"
      ]
     },
     "execution_count": 39,
     "metadata": {},
     "output_type": "execute_result"
    }
   ],
   "source": [
    "cluster_range = range(1,15)\n",
    "cluster_errors = []\n",
    "\n",
    "for num_clusters in cluster_range:\n",
    "   \n",
    "    clusters = KMeans(num_clusters, n_init=10)\n",
    "    clusters.fit(data_pca)\n",
    "    \n",
    "    labels = clusters.labels_\n",
    "    centroids = clusters.cluster_centers_\n",
    "    \n",
    "    cluster_errors.append(clusters.inertia_)\n",
    "\n",
    "clusters_df = pd.DataFrame({'num_clusters':cluster_range, \n",
    "                           'cluster_errors':cluster_errors})\n",
    "\n",
    "clusters_df"
   ]
  },
  {
   "cell_type": "code",
   "execution_count": 40,
   "id": "d0e4a9cd",
   "metadata": {},
   "outputs": [
    {
     "data": {
      "image/png": "[encoded data removed]",
      "text/plain": [
       "<Figure size 1200x600 with 1 Axes>"
      ]
     },
     "metadata": {},
     "output_type": "display_data"
    }
   ],
   "source": [
    "plt.figure(figsize=[12,6])\n",
    "plt.title('The Elbow Method')\n",
    "plt.xlabel('Number of clusters using PCA')\n",
    "plt.plot(clusters_df['num_clusters'],clusters_df['cluster_errors'],marker='o',color='b')\n",
    "plt.show()"
   ]
  },
  {
   "cell_type": "code",
   "execution_count": 41,
   "id": "2279780d",
   "metadata": {},
   "outputs": [
    {
     "data": {
      "text/plain": [
       "KMeans(n_clusters=4, n_init=15, random_state=100)"
      ]
     },
     "execution_count": 41,
     "metadata": {},
     "output_type": "execute_result"
    }
   ],
   "source": [
    "kmeans = KMeans(n_clusters=4, n_init=15, random_state=100)\n",
    "kmeans.fit(data_pca)"
   ]
  },
  {
   "cell_type": "code",
   "execution_count": 42,
   "id": "cf425f27",
   "metadata": {},
   "outputs": [],
   "source": [
    "label = pd.DataFrame(kmeans.labels_,columns=['Label'])"
   ]
  },
  {
   "cell_type": "code",
   "execution_count": 43,
   "id": "e9de6de7",
   "metadata": {},
   "outputs": [
    {
     "data": {
      "text/html": [
       "<div>\n",
       "<style scoped>\n",
       "    .dataframe tbody tr th:only-of-type {\n",
       "        vertical-align: middle;\n",
       "    }\n",
       "\n",
       "    .dataframe tbody tr th {\n",
       "        vertical-align: top;\n",
       "    }\n",
       "\n",
       "    .dataframe thead th {\n",
       "        text-align: right;\n",
       "    }\n",
       "</style>\n",
       "<table border=\"1\" class=\"dataframe\">\n",
       "  <thead>\n",
       "    <tr style=\"text-align: right;\">\n",
       "      <th></th>\n",
       "      <th>PC1</th>\n",
       "      <th>PC2</th>\n",
       "      <th>PC3</th>\n",
       "      <th>Label</th>\n",
       "    </tr>\n",
       "  </thead>\n",
       "  <tbody>\n",
       "    <tr>\n",
       "      <th>0</th>\n",
       "      <td>-0.013041</td>\n",
       "      <td>-0.724386</td>\n",
       "      <td>0.227266</td>\n",
       "      <td>0</td>\n",
       "    </tr>\n",
       "    <tr>\n",
       "      <th>1</th>\n",
       "      <td>-0.151985</td>\n",
       "      <td>0.315418</td>\n",
       "      <td>0.142098</td>\n",
       "      <td>0</td>\n",
       "    </tr>\n",
       "    <tr>\n",
       "      <th>2</th>\n",
       "      <td>1.337558</td>\n",
       "      <td>10.045524</td>\n",
       "      <td>-1.625096</td>\n",
       "      <td>3</td>\n",
       "    </tr>\n",
       "    <tr>\n",
       "      <th>3</th>\n",
       "      <td>-0.427984</td>\n",
       "      <td>0.077297</td>\n",
       "      <td>-0.273813</td>\n",
       "      <td>1</td>\n",
       "    </tr>\n",
       "    <tr>\n",
       "      <th>4</th>\n",
       "      <td>0.070865</td>\n",
       "      <td>-0.909434</td>\n",
       "      <td>-0.205953</td>\n",
       "      <td>0</td>\n",
       "    </tr>\n",
       "  </tbody>\n",
       "</table>\n",
       "</div>"
      ],
      "text/plain": [
       "        PC1        PC2       PC3  Label\n",
       "0 -0.013041  -0.724386  0.227266      0\n",
       "1 -0.151985   0.315418  0.142098      0\n",
       "2  1.337558  10.045524 -1.625096      3\n",
       "3 -0.427984   0.077297 -0.273813      1\n",
       "4  0.070865  -0.909434 -0.205953      0"
      ]
     },
     "execution_count": 43,
     "metadata": {},
     "output_type": "execute_result"
    }
   ],
   "source": [
    "kmeans_df = data_pca.join(label)\n",
    "kmeans_df.head()"
   ]
  },
  {
   "cell_type": "code",
   "execution_count": 49,
   "id": "8d35c4e9",
   "metadata": {},
   "outputs": [
    {
     "name": "stdout",
     "output_type": "stream",
     "text": [
      "Silhouette Score: 0.330849086284665\n"
     ]
    }
   ],
   "source": [
    "from sklearn.metrics import silhouette_score\n",
    "labels = kmeans.labels_\n",
    "silhouette_avg = silhouette_score(data_pca, labels)\n",
    "print(\"Silhouette Score:\", silhouette_avg)"
   ]
  },
  {
   "cell_type": "raw",
   "id": "41b9d425",
   "metadata": {},
   "source": [
    "16.\tApply Agglomerative clustering and segment the data. (You may use original data or PCA transformed data) (8)\n",
    "a.\tFind the optimal K Value using dendrogram for Agglomerative clustering.\n",
    "b.\tBuild a Agglomerative clustering model using the obtained optimal K value observed from dendrogram.\n",
    "c.\tCompute silhouette score for evaluating the quality of the Agglomerative clustering technique. "
   ]
  },
  {
   "cell_type": "code",
   "execution_count": 50,
   "id": "94744696",
   "metadata": {},
   "outputs": [
    {
     "data": {
      "image/png": "[encoded data removed]",
      "text/plain": [
       "<Figure size 1000x600 with 1 Axes>"
      ]
     },
     "metadata": {},
     "output_type": "display_data"
    }
   ],
   "source": [
    "import random\n",
    "from scipy.cluster.hierarchy import dendrogram, linkage\n",
    "sample_size = 100  \n",
    "random_indices = random.sample(range(len(scaled_features)), sample_size)\n",
    "sampled_data = scaled_features[random_indices]\n",
    "linkage_matrix = linkage(sampled_data, method='ward')\n",
    "plt.figure(figsize=[10, 6])\n",
    "dendrogram(linkage_matrix)\n",
    "plt.xlabel('Samples')\n",
    "plt.ylabel('Distance')\n",
    "plt.title('Dendrogram for Agglomerative Clustering')\n",
    "plt.show()"
   ]
  },
  {
   "cell_type": "code",
   "execution_count": 51,
   "id": "e986a3eb",
   "metadata": {},
   "outputs": [
    {
     "data": {
      "text/plain": [
       "AgglomerativeClustering(n_clusters=4)"
      ]
     },
     "execution_count": 51,
     "metadata": {},
     "output_type": "execute_result"
    }
   ],
   "source": [
    "optimal_k = 4  \n",
    "agglomerative = AgglomerativeClustering(n_clusters=optimal_k)\n",
    "agglomerative.fit(sampled_data) "
   ]
  },
  {
   "cell_type": "code",
   "execution_count": 52,
   "id": "0dbb831e",
   "metadata": {},
   "outputs": [
    {
     "name": "stdout",
     "output_type": "stream",
     "text": [
      "Silhouette Score: 0.36501483447066235\n"
     ]
    }
   ],
   "source": [
    "labels = agglomerative.labels_\n",
    "silhouette_avg = silhouette_score(sampled_data, labels)\n",
    "print('Silhouette Score:', silhouette_avg)"
   ]
  },
  {
   "cell_type": "raw",
   "id": "4b2dd142",
   "metadata": {},
   "source": [
    "17.\tPerform cluster analysis by doing bivariate analysis between cluster labels and different features and write your conclusion on the results. "
   ]
  },
  {
   "cell_type": "code",
   "execution_count": null,
   "id": "b740eb7b",
   "metadata": {},
   "outputs": [],
   "source": []
  }
 ],
 "metadata": {
  "kernelspec": {
   "display_name": "Python 3 (ipykernel)",
   "language": "python",
   "name": "python3"
  },
  "language_info": {
   "codemirror_mode": {
    "name": "ipython",
    "version": 3
   },
   "file_extension": ".py",
   "mimetype": "text/x-python",
   "name": "python",
   "nbconvert_exporter": "python",
   "pygments_lexer": "ipython3",
   "version": "3.9.13"
  }
 },
 "nbformat": 4,
 "nbformat_minor": 5
}
